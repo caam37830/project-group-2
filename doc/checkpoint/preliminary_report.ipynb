{
 "cells": [
  {
   "cell_type": "markdown",
   "metadata": {},
   "source": [
    "# Preliminary Report\n",
    "\n",
    "\n",
    "### Introduction to the SIR Model and Notation\n",
    "\n",
    "The SIR model is built based on the first-order derivative to model the spread of infectious disease, where the time dependent variables $S$, $I$, $R$ each represent the following populations:\n",
    "\n",
    "$S$(susceptible): number of individuals who are not infected but could become infected\n",
    "\n",
    "$I$(infected): number of individuals who are already infected and can spread disease\n",
    "\n",
    "$R$(removed): number of individuals who are either recovered and immune or have died\n",
    "    \n",
    "And $s$, $i$, $r$ are used to represent the proportion of susceptible, infected and removed individuals among the population. \n",
    "\n",
    "There are two parameters $b$ and $k$ in the model, where $b$ indicates the number of interactions each day that could spread the disease (per individual) and $k$ indicates the fraction of the infectious population which recovers each day. \n",
    "\n",
    "In the ODE-based model, we can get the following system of differential equations, where $t$ is time:\n",
    "\n",
    "$\\frac{ds}{dt} = -b * s(t) * i(t)$\n",
    "\n",
    "$\\frac{dr}{dt} = k * i(t)$\n",
    "\n",
    "$\\frac{di}{dt} = b * s(t) * i(t) - k * i(t)$\n",
    "\n",
    "\n",
    "\n",
    "\n",
    "\n",
    "\n",
    "\n",
    "### Python Package 'sir'\n",
    "\n",
    "\n",
    "\n",
    "\n",
    "\n",
    "\n",
    "### Discrete Agent-Based Model\n",
    "\n",
    "\n",
    "\n",
    "\n",
    "\n",
    "### Continuous/ODE-Based Model\n",
    "\n",
    "\n",
    "\n",
    "\n",
    "### Variations and Improvements\n",
    "\n",
    "\n"
   ]
  },
  {
   "cell_type": "code",
   "execution_count": null,
   "metadata": {},
   "outputs": [],
   "source": []
  }
 ],
 "metadata": {
  "kernelspec": {
   "display_name": "Python (pycourse)",
   "language": "python",
   "name": "pycourse"
  },
  "language_info": {
   "codemirror_mode": {
    "name": "ipython",
    "version": 3
   },
   "file_extension": ".py",
   "mimetype": "text/x-python",
   "name": "python",
   "nbconvert_exporter": "python",
   "pygments_lexer": "ipython3",
   "version": "3.8.5"
  }
 },
 "nbformat": 4,
 "nbformat_minor": 4
}
