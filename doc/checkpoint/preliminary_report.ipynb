{
 "cells": [
  {
   "cell_type": "markdown",
   "metadata": {},
   "source": [
    "# Preliminary Report\n",
    "\n",
    "\n",
    "### Introduction to the SIR Model and Notation\n",
    "\n",
    "The susceptible-infected-removed (SIR) model is built based on the first-order derivative to model the spread of infectious disease, where the time dependent variables $S$, $I$, $R$ each represent the following populations:\n",
    "\n",
    "$S$(susceptible): number of individuals who are not infected but could become infected\n",
    "\n",
    "$I$(infected): number of individuals who are already infected and can spread disease\n",
    "\n",
    "$R$(removed): number of individuals who are either recovered and immune or have died\n",
    "    \n",
    "And $s$, $i$, $r$ are used to represent the proportion of susceptible, infected and removed individuals among the population. \n",
    "\n",
    "There are two parameters $b$ and $k$ in the model, where $b$ indicates the number of interactions each day that could spread the disease (per individual) and $k$ indicates the fraction of the infectious population which recovers each day. \n",
    "\n",
    "In the ODE-based model, we can get the following system of differential equations, where $t$ is time:\n",
    "\n",
    "$\\frac{ds}{dt} = -b * s(t) * i(t)$\n",
    "\n",
    "$\\frac{dr}{dt} = k * i(t)$\n",
    "\n",
    "$\\frac{di}{dt} = b * s(t) * i(t) - k * i(t)$\n",
    "\n",
    "\n",
    "\n",
    "\n",
    "\n",
    "\n",
    "\n",
    "### Python Package 'sir'\n",
    "\n",
    "\n",
    "\n",
    "\n",
    "\n",
    "\n",
    "### Discrete Agent-Based Model\n",
    "\n",
    "The simulation is done with T values 10, 20 and 30 for both discrete and continuous cases. According to the phase diagrams produced, the following conclusions can be reached:\n",
    "\n",
    "For the discrete cases, \n",
    "the percentage of the population infected and removed mainly depends on b, which is the number of interactions per day per individual(infection rate). \n",
    "When the infection rate b is larger than 5, all people will eventually become infected, regardless of k(recovery rate). When the infection rate b is smaller than or equal to 5, if k is large, then only a very small proportion of people will become infected eventually.\n",
    "\n",
    "\n",
    "Only when b is small and k is relatively large(larger than 0.5), will people not all become infected eventually. Otherwise, all people will eventually become infected.\n",
    "\n",
    "\n",
    "When k is larger than 0.4,  i, the percentage of the population infected, quickly goes to 0, regardless of infection rate b.\n",
    "\n",
    "\n",
    "\n",
    "### Continuous/ODE-Based Model\n",
    "\n",
    "![Figure 1](pictures2/Figure_1odetotalinfectT10.png)\n",
    "\n",
    "\n",
    "\n",
    "<table><tr>\n",
    "<td><img src='pictures2/Figure_1odetotalinfectT10.png'></td>\n",
    "<td><img src='pictures2/Figure_3odetotalinfectT30.png'></td>\n",
    "<td><img src='pictures2/Figure_2odetotalinfectT20.png'></td>\n",
    "</tr></table>\n",
    "\n",
    "\n",
    "\n",
    "\n",
    "### Variations and Improvements\n",
    "\n",
    "\n"
   ]
  },
  {
   "cell_type": "code",
   "execution_count": null,
   "metadata": {},
   "outputs": [],
   "source": []
  },
  {
   "cell_type": "code",
   "execution_count": null,
   "metadata": {},
   "outputs": [],
   "source": []
  },
  {
   "cell_type": "code",
   "execution_count": null,
   "metadata": {},
   "outputs": [],
   "source": []
  },
  {
   "cell_type": "markdown",
   "metadata": {},
   "source": [
    "![Figure 1](pictures2/Figure_1odetotalinfectT10.png) | ![Figure 1](pictures2/Figure_2odetotalinfectT20.png)"
   ]
  },
  {
   "cell_type": "code",
   "execution_count": null,
   "metadata": {},
   "outputs": [],
   "source": []
  },
  {
   "cell_type": "code",
   "execution_count": null,
   "metadata": {},
   "outputs": [],
   "source": []
  },
  {
   "cell_type": "code",
   "execution_count": null,
   "metadata": {},
   "outputs": [],
   "source": []
  },
  {
   "cell_type": "code",
   "execution_count": null,
   "metadata": {},
   "outputs": [],
   "source": []
  },
  {
   "cell_type": "code",
   "execution_count": 4,
   "metadata": {},
   "outputs": [
    {
     "data": {
      "text/plain": [
       "<matplotlib.colorbar.Colorbar at 0x7fec77708370>"
      ]
     },
     "execution_count": 4,
     "metadata": {},
     "output_type": "execute_result"
    },
    {
     "data": {
      "image/png": "[encoded data removed]",
      "text/plain": [
       "<Figure size 432x288 with 7 Axes>"
      ]
     },
     "metadata": {
      "needs_background": "light"
     },
     "output_type": "display_data"
    }
   ],
   "source": [
    "\n",
    "from matplotlib import colors\n",
    "import matplotlib.pyplot as plt\n",
    "import numpy as np\n",
    "\n",
    "np.random.seed(19680801)\n",
    "Nr = 3\n",
    "Nc = 2\n",
    "\n",
    "fig, axs = plt.subplots(Nr, Nc)\n",
    "fig.suptitle('Multiple images')\n",
    "\n",
    "images = []\n",
    "for i in range(Nr):\n",
    "    for j in range(Nc):\n",
    "        # Generate data with a range that varies from one plot to the next.\n",
    "        data = ((1 + i + j) / 10) * np.random.rand(10, 20)\n",
    "        images.append(axs[i, j].imshow(data))\n",
    "        axs[i, j].label_outer()\n",
    "\n",
    "# Find the min and max of all colors for use in setting the color scale.\n",
    "vmin = min(image.get_array().min() for image in images)\n",
    "vmax = max(image.get_array().max() for image in images)\n",
    "norm = colors.Normalize(vmin=vmin, vmax=vmax)\n",
    "for im in images:\n",
    "    im.set_norm(norm)\n",
    "\n",
    "fig.colorbar(images[0], ax=axs, orientation='horizontal', fraction=.1)\n",
    "\n"
   ]
  },
  {
   "cell_type": "code",
   "execution_count": null,
   "metadata": {},
   "outputs": [],
   "source": []
  },
  {
   "cell_type": "code",
   "execution_count": 5,
   "metadata": {},
   "outputs": [],
   "source": [
    "\n",
    "# Make images respond to changes in the norm of other images (e.g. via the\n",
    "# \"edit axis, curves and images parameters\" GUI on Qt), but be careful not to\n",
    "# recurse infinitely!\n",
    "def update(changed_image):\n",
    "    for im in images:\n",
    "        if (changed_image.get_cmap() != im.get_cmap()\n",
    "                or changed_image.get_clim() != im.get_clim()):\n",
    "            im.set_cmap(changed_image.get_cmap())\n",
    "            im.set_clim(changed_image.get_clim())\n",
    "\n",
    "\n",
    "for im in images:\n",
    "    im.callbacksSM.connect('changed', update)\n",
    "\n",
    "plt.show()"
   ]
  },
  {
   "cell_type": "code",
   "execution_count": null,
   "metadata": {},
   "outputs": [],
   "source": []
  },
  {
   "cell_type": "code",
   "execution_count": null,
   "metadata": {},
   "outputs": [],
   "source": []
  },
  {
   "cell_type": "code",
   "execution_count": null,
   "metadata": {},
   "outputs": [],
   "source": []
  },
  {
   "cell_type": "code",
   "execution_count": null,
   "metadata": {},
   "outputs": [],
   "source": []
  },
  {
   "cell_type": "code",
   "execution_count": null,
   "metadata": {},
   "outputs": [],
   "source": []
  },
  {
   "cell_type": "code",
   "execution_count": null,
   "metadata": {},
   "outputs": [],
   "source": []
  },
  {
   "cell_type": "code",
   "execution_count": null,
   "metadata": {},
   "outputs": [],
   "source": []
  },
  {
   "cell_type": "code",
   "execution_count": null,
   "metadata": {},
   "outputs": [],
   "source": []
  },
  {
   "cell_type": "code",
   "execution_count": null,
   "metadata": {},
   "outputs": [],
   "source": []
  },
  {
   "cell_type": "code",
   "execution_count": null,
   "metadata": {},
   "outputs": [],
   "source": []
  }
 ],
 "metadata": {
  "kernelspec": {
   "display_name": "Python 3",
   "language": "python",
   "name": "python3"
  },
  "language_info": {
   "codemirror_mode": {
    "name": "ipython",
    "version": 3
   },
   "file_extension": ".py",
   "mimetype": "text/x-python",
   "name": "python",
   "nbconvert_exporter": "python",
   "pygments_lexer": "ipython3",
   "version": "3.8.3"
  }
 },
 "nbformat": 4,
 "nbformat_minor": 4
}
