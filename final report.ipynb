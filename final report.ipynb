{
 "cells": [
  {
   "cell_type": "markdown",
   "metadata": {},
   "source": [
    "REQUIREMENT:\n",
    "the spatial SIR model, and your variations. Include any relevant implementation details as well as your results and discussion.\n",
    "A conclusion summarizing your results, discussing limitations of your models, and pointing out interesting directions for further investigation\n",
    "A bibliography"
   ]
  },
  {
   "cell_type": "markdown",
   "metadata": {},
   "source": [
    "INTRO:\n",
    "    \n",
    "1 Introduction to the SIR Model and Notation\n",
    "The susceptible-infected-removed (SIR) model is one of the compartmental models that simplify the mathematical modeling to the spread of infectious disease, where the time dependent variables S, I, R each represent the following populations:\n",
    "S(susceptible): number of individuals who are not infected but could become infected I(infected): number of individuals who are already infected and can spread disease R(removed): number of individuals who are either recovered and immune or have died Additionally, s, i, r are used to represent the proportion of susceptible, infected and removed individuals among the population. Note that this model assumes the susceptible population S decreases monotonically towards 0, and the population size is fixed, and the duration of infectivity is same as length of the disease.\n",
    "There are two parameters b and k in the model, where b indicates the number of interactions each day that could spread the disease (per individual) and k indicates the fraction of the infectious population which recovers each day. The model consists of the following system of the nonlinear ordinary differential equations, where t is time:"
   ]
  },
  {
   "cell_type": "markdown",
   "metadata": {},
   "source": [
    "ABSTRACT:\n",
    "In this report, we investigate how the infectious disease spread throughout the population based on the susceptible-infected-recovered (SIR) epidemic model. We first ran the simulation with both the discrete agent-based and the continuous ODE models. We then proposed and implemented three variations of the model. In the first modification, we aim to understand how the mask use will change the way infectious disease spread, and how the adoption of the masks with differect effectiveness influences number of hospitalizations and deaths.Secondly, we used some default parameters to fit the Covid data from Hubei, China to our continious ODE model with a close attemtino to the removed and infected rate. Lastly, we also created a visualization of the interactive heat map, interactive time series plot of the confirmed and death for different states. Apart from these veriations of the model, we also added the  a 2-dimensional spatial component to both the discrete agent-based and the continuous ODE models where population is confined in a box and observe how different initial location conditions change the spread of the disease."
   ]
  },
  {
   "cell_type": "markdown",
   "metadata": {},
   "source": [
    "MASK:\n",
    "\n",
    "In this section, we included the usage of mask in our basic SIR model to study the effectiveness of mask in the spreading of the novel COVID-19 disease. More specifically, we investigated how the usage of mask influences the percentage of deaths and hospitalizations with respect to different infectious contact rate. The model was based on the paper ”To mask or not to mask: Modeling the potential for face mask use by the general public to curtail the COVID-19 pandemic” by Steffen E. Eikenberry et al. In this model, we introduced seven variables. S(t), E(t), I(t), H(t), A(t), R(t) each denotes susceptible, exposed, symptomatic infectious, hospitalized, asymptomatic infectious, and recovered classes, with an assumption that people progress from\n",
    "                                                S → E → A → I → H.\n",
    "At each state, infectious people will be able to recover, and only people in severe condition will go to hospital and may die. D(t) is also included to track cumulative deaths. Two sets of ODE equations will be used during simulation to find how use of mask will impact the spread of disease. We first consider a baseline model for the case where no masks are used. In the second set of ODEs, we will introduce more variables SU (t), EU (t), IU (t), HU (t), AU (t), RU (t), SM (t), EM (t), IM (t), HM (t), AM (t), RM (t) to divide the population in two part: the population wearing masks and the one not wearing masks. Here are the two sets of ODEs:\n",
    "[ADD  formula]\n",
    "\n",
    "\n",
    "Implementaion:\n",
    "\n",
    "We ran the simulation and recorded what happened in several days. Here, β is the infectious contact rate, σ is the transition exposed to infectious, η is the infectiousness factor for asymptomatic carriar, α is the fraction of infections that become symptomatic, φ is rate of hospitalization, γA is the recovery rate for asymptomatic, γI is the recovery rate, symptomatic, γH is the recovery rate for hospitalized, σ is the death rate in hospital, ε0 is the outward efficiency of the masks, while εi is the inward efficiency of the masks.\n",
    "Then we found the default estimated values for all parameters with population masked and not masked from the source [2]. Here, an assumption was made that the inward efficiency and outward efficiency of masks are the same ε0 = ε1. We drew a 2 dimensional phase diagram to show how the efficiency of mask (homemade mask or surgery mask) and the percentage of masked people will influence the hospitalization as well as the total deaths among the population.\n",
    "\n",
    "Results:\n",
    "[ADD. Figures]\n",
    "\n",
    "The figures above shows the relative peak hospitalizations and cumulative mortality under simulated epidemics, under either a base  = 0.5 or 1.5 day −1. These results are relative to the case where no masks are used. From the graphs presented, we can observe asymmetry between coverage and efficacy, and increasing the coverage of mederately effective mask is generally more useful than increasing the effectiveness of masks from a starting point of moderate coverage. The result agreed with the one concluded from the paper.\n",
    "\n",
    "------------ADD limitations :\n",
    "\n",
    "\n",
    "\n",
    "------------ADD directions for further investigation :\n"
   ]
  }
 ],
 "metadata": {
  "kernelspec": {
   "display_name": "Python 3",
   "language": "python",
   "name": "python3"
  },
  "language_info": {
   "codemirror_mode": {
    "name": "ipython",
    "version": 3
   },
   "file_extension": ".py",
   "mimetype": "text/x-python",
   "name": "python",
   "nbconvert_exporter": "python",
   "pygments_lexer": "ipython3",
   "version": "3.8.3"
  }
 },
 "nbformat": 4,
 "nbformat_minor": 4
}
