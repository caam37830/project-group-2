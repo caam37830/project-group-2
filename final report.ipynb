{
 "cells": [
  {
   "cell_type": "markdown",
   "metadata": {},
   "source": [
    "MASK:\n",
    "\n",
    "介绍模型（pdf）\n",
    "\n",
    "做了啥\n",
    "\n",
    "the spatial SIR model, and your variations. Include any relevant implementation details as well as your results and discussion.\n",
    "A conclusion summarizing your results, discussing limitations of your models, and pointing out interesting directions for further investigation\n",
    "A bibliography\n",
    "\n",
    "\n",
    "In this section, we included the usage of mask in our basic SIR model to study the effectiveness of mask in the spreading of the novel COVID-19 disease. More specifically, we investigated how the usage of mask influences the percentage of deaths and hospitalizations with respect to different infectious contact rate. The model was based on the paper ”To mask or not to mask: Modeling the potential for face mask use by the general public to curtail the COVID-19 pandemic” by Steffen E. Eikenberry et al. In this model, we introduced seven variables. S(t), E(t), I(t), H(t), A(t), R(t) each denotes susceptible, exposed, symptomatic infectious, hospitalized, asymptomatic infectious, and recovered classes, with an assumption that people progress from\n",
    "                                                S → E → A → I → H.\n",
    "At each state, infectious people will be able to recover, and only people in severe condition will go to hospital and may die. D(t) is also included to track cumulative deaths. Two sets of ODE equations will be used during simulation to find how use of mask will impact the spread of disease. We first consider a baseline model for the case where no masks are used. In the second set of ODEs, we will introduce more variables SU (t), EU (t), IU (t), HU (t), AU (t), RU (t), SM (t), EM (t), IM (t), HM (t), AM (t), RM (t) to divide the population in two part: the population wearing masks and the one not wearing masks. Here are the two sets of ODEs:\n",
    "[formula]\n",
    "\n",
    "\n",
    "We ran the simulation and recorded what happened in several days. Here, β is the infectious contact rate, σ is the transition exposed to infectious, η is the infectiousness factor for asymptomatic carriar, α is the fraction of infections that become symptomatic, φ is rate of hospitalization, γA is the recovery rate for asymptomatic, γI is the recovery rate, symptomatic, γH is the recovery rate for hospitalized, σ is the death rate in hospital, ε0 is the outward efficiency of the masks, while εi is the inward efficiency of the masks.\n",
    "Then we found the default estimated values for all parameters with population masked and not masked from the source [2]. Here, an assumption was made that the inward efficiency and outward efficiency of masks are the same ε0 = ε1. We drew a 2 dimensional phase diagram to show how the efficiency of mask (homemade mask or surgery mask) and the percentage of masked people will influence the hospitalization as well as the total deaths among the population.\n",
    "\n",
    "\n",
    "[Figure]\n",
    "\n",
    "\n",
    "The figures above shows the relative peak hospitalizations and cumulative mortality under simulated epidemics, under either a base  = 0.5 or 1.5 day −1. These results are relative to the case where no masks are used. From the graphs presented, we can observe asymmetry between coverage and efficacy, and increasing the coverage of mederately effective mask is generally more useful than increasing the effectiveness of masks from a starting point of moderate coverage. The result agreed with the one concluded from the paper.\n",
    "\n",
    "\n"
   ]
  }
 ],
 "metadata": {
  "kernelspec": {
   "display_name": "Python 3",
   "language": "python",
   "name": "python3"
  },
  "language_info": {
   "codemirror_mode": {
    "name": "ipython",
    "version": 3
   },
   "file_extension": ".py",
   "mimetype": "text/x-python",
   "name": "python",
   "nbconvert_exporter": "python",
   "pygments_lexer": "ipython3",
   "version": "3.8.3"
  }
 },
 "nbformat": 4,
 "nbformat_minor": 4
}
